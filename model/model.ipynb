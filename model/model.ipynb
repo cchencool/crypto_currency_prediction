{
 "cells": [
  {
   "cell_type": "code",
   "execution_count": 1,
   "metadata": {},
   "outputs": [],
   "source": [
    "%matplotlib inline\n",
    "\n",
    "import warnings\n",
    "warnings.filterwarnings('ignore')\n",
    "\n",
    "import h5py\n",
    "import pandas as pd\n",
    "import numpy as np\n",
    "import copy\n",
    "import os\n",
    "import sys\n",
    "import matplotlib.pyplot as plt\n",
    "from sklearn.externals import joblib"
   ]
  },
  {
   "cell_type": "code",
   "execution_count": 2,
   "metadata": {},
   "outputs": [
    {
     "name": "stdout",
     "output_type": "stream",
     "text": [
      "['/BCH-USD', '/BTC-USD', '/ETH-USD', '/LTC-USD']\n"
     ]
    }
   ],
   "source": [
    "# load data file names\n",
    "working_folder = \"..\"\n",
    "data_folder = os.path.join(working_folder, 'data')\n",
    "format1_files = ['data_format1_201808.h5']\n",
    "format2_files = ['data_format2_201808.h5']\n",
    "# load data\n",
    "cur_datas = pd.DataFrame()\n",
    "cur_datas_f2 = pd.DataFrame()\n",
    "opened_files = list()\n",
    "i=0\n",
    "# for f in format1_files:\n",
    "f = format1_files[0]\n",
    "f_fp = os.path.join(data_folder, f)\n",
    "f1_data = pd.HDFStore(f_fp)\n",
    "if i==0:\n",
    "    print(f1_data.keys())\n",
    "i += 1\n",
    "opened_files.append(f1_data)\n",
    "cur_bch = f1_data['BCH-USD']\n",
    "\n",
    "if not cur_datas.empty:\n",
    "    cur_datas = cur_datas.append(cur_bch)\n",
    "else:\n",
    "    cur_datas = cur_bch"
   ]
  },
  {
   "cell_type": "code",
   "execution_count": 3,
   "metadata": {},
   "outputs": [],
   "source": [
    "for f in opened_files:\n",
    "    f.close()"
   ]
  },
  {
   "cell_type": "code",
   "execution_count": 4,
   "metadata": {},
   "outputs": [],
   "source": [
    "f = format2_files[0]\n",
    "f_fp = os.path.join(data_folder, f)\n",
    "# f2_data = pd.HDFStore(f_fp)\n",
    "f2_data = h5py.File(f_fp, mode='r')\n",
    "opened_files.append(f2_data)\n",
    "times = list(f2_data.keys())"
   ]
  },
  {
   "cell_type": "code",
   "execution_count": 5,
   "metadata": {},
   "outputs": [
    {
     "data": {
      "text/plain": [
       "array([[ 776.96,  776.96,  776.28,  776.28],\n",
       "       [7730.77, 7731.91, 7727.27, 7727.28],\n",
       "       [ 432.95,  432.95,  432.36,  432.36],\n",
       "       [  79.02,   79.07,   78.88,   78.88]])"
      ]
     },
     "execution_count": 5,
     "metadata": {},
     "output_type": "execute_result"
    }
   ],
   "source": [
    "data_cur_min = f2_data[times[0]][:]\n",
    "data_cur_min[:,0:4]"
   ]
  },
  {
   "cell_type": "code",
   "execution_count": 6,
   "metadata": {},
   "outputs": [
    {
     "data": {
      "text/plain": [
       "array([ 776.62  , 7729.3075,  432.655 ,   78.9625])"
      ]
     },
     "execution_count": 6,
     "metadata": {},
     "output_type": "execute_result"
    }
   ],
   "source": [
    "np.mean(data_cur_min[:,0:4], axis=1)"
   ]
  },
  {
   "cell_type": "code",
   "execution_count": 7,
   "metadata": {},
   "outputs": [
    {
     "data": {
      "text/plain": [
       "array([7.73077000e+03, 7.73191000e+03, 7.72727000e+03, 7.72728000e+03,\n",
       "       3.50382689e+00])"
      ]
     },
     "execution_count": 7,
     "metadata": {},
     "output_type": "execute_result"
    }
   ],
   "source": [
    "data_cur_min[1,]"
   ]
  },
  {
   "cell_type": "code",
   "execution_count": 8,
   "metadata": {},
   "outputs": [],
   "source": [
    "from datetime import datetime as dt\n",
    "from datetime import timedelta"
   ]
  },
  {
   "cell_type": "code",
   "execution_count": 9,
   "metadata": {},
   "outputs": [],
   "source": [
    "?timedelta"
   ]
  },
  {
   "cell_type": "code",
   "execution_count": null,
   "metadata": {},
   "outputs": [],
   "source": []
  }
 ],
 "metadata": {
  "kernelspec": {
   "display_name": "Python 3",
   "language": "python",
   "name": "python3"
  },
  "language_info": {
   "codemirror_mode": {
    "name": "ipython",
    "version": 3
   },
   "file_extension": ".py",
   "mimetype": "text/x-python",
   "name": "python",
   "nbconvert_exporter": "python",
   "pygments_lexer": "ipython3",
   "version": "3.6.5"
  }
 },
 "nbformat": 4,
 "nbformat_minor": 2
}
