{
 "cells": [
  {
   "cell_type": "code",
   "execution_count": 1,
   "metadata": {},
   "outputs": [],
   "source": [
    "%matplotlib inline\n",
    "\n",
    "import warnings\n",
    "warnings.filterwarnings('ignore')\n",
    "\n",
    "import h5py\n",
    "import pandas as pd\n",
    "import numpy as np\n",
    "import copy\n",
    "import os\n",
    "import sys\n",
    "import matplotlib.pyplot as plt\n",
    "from sklearn.preprocessing import MinMaxScaler"
   ]
  },
  {
   "cell_type": "code",
   "execution_count": 93,
   "metadata": {},
   "outputs": [
    {
     "data": {
      "text/plain": [
       "['/BCH-USD', '/BTC-USD', '/ETH-USD', '/LTC-USD']"
      ]
     },
     "execution_count": 93,
     "metadata": {},
     "output_type": "execute_result"
    }
   ],
   "source": [
    "data_root = \"../../data\"\n",
    "currencies = ['BCH-USD', 'BTC-USD', 'ETH-USD', 'LTC-USD']\n",
    "curr_info = dict.fromkeys(currencies, pd.DataFrame(columns=['close','high','low','open','volume']))\n",
    "format1_path = 'data_format1_201808.h5'\n",
    "f1_data = pd.HDFStore(os.path.join(data_root, format1_path))\n",
    "# for curr in currencies:\n",
    "#     curr_info[curr].append(f1_data[curr])\n",
    "# f1_data.close()\n",
    "\n",
    "# curr_info\n",
    "# list(f1_data.keys())"
   ]
  },
  {
   "cell_type": "code",
   "execution_count": 49,
   "metadata": {},
   "outputs": [],
   "source": [
    "'''\n",
    "format1: {currency_type: {time: ['close', 'high', 'low', 'open', 'volume']}}\n",
    "format2: {time: {currency_type: ['close', 'high', 'low', 'open', 'volume']}}\n",
    "'''\n",
    "\n",
    "def load_data(date_list):\n",
    "    data_root = \"../../data\"\n",
    "    currencies = ['BCH-USD', 'BTC-USD', 'ETH-USD', 'LTC-USD']\n",
    "    curr_info = dict.fromkeys(currencies)\n",
    "    \n",
    "    date_list = date_list if type(date_list) is list else [date_list]\n",
    "#     date_list = sorted(date_list)\n",
    "    \n",
    "    for date in date_list:\n",
    "        format1_path = 'data_format1_' + date + '.h5'\n",
    "    #     format2_path = 'data_format2_' + date + '.h5'\n",
    "        f1_data = pd.HDFStore(os.path.join(data_root, format1_path))\n",
    "    #     f2_data = pd.HDFStore(os.path.join(data_root, format2_path))\n",
    "        for curr in currencies:\n",
    "            if curr_info[curr] is None:\n",
    "                curr_info[curr] = f1_data[curr]\n",
    "            else:\n",
    "                curr_info[curr] = curr_info[curr].append(f1_data[curr])\n",
    "        f1_data.close()\n",
    "        \n",
    "    for key, item in curr_info.items():\n",
    "        curr_info[key]['volume_minmax'] = MinMaxScaler().fit_transform(item[['volume']]).reshape(1,-1)[0]        \n",
    "        curr_info[key]['avg'] = item[['close', 'high', 'low', 'open']].mean(axis=1)\n",
    "        \n",
    "    return curr_info # {curr_name: cur_df}\n",
    "\n",
    "def load_h5(date):\n",
    "    data_root = \"../../data\"\n",
    "    format1_path = 'data_format1_' + date + '.h5'\n",
    "    format2_path = 'data_format2_' + date + '.h5'\n",
    "    \n",
    "    f1_data = h5py.File(os.path.join(data_root, format1_path), 'r')\n",
    "    f2_data = h5py.File(os.path.join(data_root, format2_path), 'r')\n",
    "    \n",
    "    return f1_data, f2_data\n",
    "    "
   ]
  },
  {
   "cell_type": "code",
   "execution_count": 85,
   "metadata": {},
   "outputs": [
    {
     "data": {
      "text/plain": [
       "array([[7.76960000e+02, 7.76960000e+02, 7.76280000e+02, 7.76280000e+02,\n",
       "        1.13108299e+01],\n",
       "       [7.73077000e+03, 7.73191000e+03, 7.72727000e+03, 7.72728000e+03,\n",
       "        3.50382689e+00],\n",
       "       [4.32950000e+02, 4.32950000e+02, 4.32360000e+02, 4.32360000e+02,\n",
       "        1.49934641e+02],\n",
       "       [7.90200000e+01, 7.90700000e+01, 7.88800000e+01, 7.88800000e+01,\n",
       "        3.04508209e+02]])"
      ]
     },
     "execution_count": 85,
     "metadata": {},
     "output_type": "execute_result"
    }
   ],
   "source": [
    "# f1, f2 = load_h5('201808')\n",
    "# f1 = load_data(['201807', '201808'])\n",
    "# f1['BCH-USD']\n",
    "f1, f2 = load_h5('201808')\n",
    "f2['2018-08-01 00:00:00'][]\n"
   ]
  },
  {
   "cell_type": "code",
   "execution_count": 32,
   "metadata": {},
   "outputs": [
    {
     "data": {
      "text/plain": [
       "7"
      ]
     },
     "execution_count": 32,
     "metadata": {},
     "output_type": "execute_result"
    }
   ],
   "source": [
    "# f1['LTC-USD'].head()\n",
    "# minmax = MinMaxScaler().fit_transform(f1['LTC-USD'][['volume']])\n",
    "# minmax\n",
    "# for key, item in f1.items():\n",
    "#     f1[key]['volume_minmax'] = MinMaxScaler().fit_transform(f1[key][['volume']]).reshape(1,-1)[0]\n",
    "# len(f1['LTC-USD'].columns)"
   ]
  },
  {
   "cell_type": "code",
   "execution_count": 24,
   "metadata": {},
   "outputs": [
    {
     "data": {
      "text/html": [
       "<div>\n",
       "<style scoped>\n",
       "    .dataframe tbody tr th:only-of-type {\n",
       "        vertical-align: middle;\n",
       "    }\n",
       "\n",
       "    .dataframe tbody tr th {\n",
       "        vertical-align: top;\n",
       "    }\n",
       "\n",
       "    .dataframe thead th {\n",
       "        text-align: right;\n",
       "    }\n",
       "</style>\n",
       "<table border=\"1\" class=\"dataframe\">\n",
       "  <thead>\n",
       "    <tr style=\"text-align: right;\">\n",
       "      <th></th>\n",
       "      <th>close</th>\n",
       "      <th>high</th>\n",
       "      <th>low</th>\n",
       "      <th>open</th>\n",
       "      <th>volume</th>\n",
       "      <th>avg</th>\n",
       "      <th>volume_minmax</th>\n",
       "    </tr>\n",
       "    <tr>\n",
       "      <th>time</th>\n",
       "      <th></th>\n",
       "      <th></th>\n",
       "      <th></th>\n",
       "      <th></th>\n",
       "      <th></th>\n",
       "      <th></th>\n",
       "      <th></th>\n",
       "    </tr>\n",
       "  </thead>\n",
       "  <tbody>\n",
       "    <tr>\n",
       "      <th>2018-08-01 00:00:00</th>\n",
       "      <td>79.02</td>\n",
       "      <td>79.07</td>\n",
       "      <td>78.88</td>\n",
       "      <td>78.88</td>\n",
       "      <td>304.508209</td>\n",
       "      <td>78.9625</td>\n",
       "      <td>0.031037</td>\n",
       "    </tr>\n",
       "    <tr>\n",
       "      <th>2018-08-01 00:01:00</th>\n",
       "      <td>79.01</td>\n",
       "      <td>79.02</td>\n",
       "      <td>79.00</td>\n",
       "      <td>79.02</td>\n",
       "      <td>9.220407</td>\n",
       "      <td>79.0125</td>\n",
       "      <td>0.000940</td>\n",
       "    </tr>\n",
       "    <tr>\n",
       "      <th>2018-08-01 00:02:00</th>\n",
       "      <td>79.00</td>\n",
       "      <td>79.01</td>\n",
       "      <td>79.00</td>\n",
       "      <td>79.01</td>\n",
       "      <td>41.986554</td>\n",
       "      <td>79.0050</td>\n",
       "      <td>0.004280</td>\n",
       "    </tr>\n",
       "    <tr>\n",
       "      <th>2018-08-01 00:03:00</th>\n",
       "      <td>78.86</td>\n",
       "      <td>79.00</td>\n",
       "      <td>78.85</td>\n",
       "      <td>79.00</td>\n",
       "      <td>315.791794</td>\n",
       "      <td>78.9275</td>\n",
       "      <td>0.032187</td>\n",
       "    </tr>\n",
       "    <tr>\n",
       "      <th>2018-08-01 00:04:00</th>\n",
       "      <td>78.82</td>\n",
       "      <td>78.86</td>\n",
       "      <td>78.82</td>\n",
       "      <td>78.85</td>\n",
       "      <td>186.512855</td>\n",
       "      <td>78.8375</td>\n",
       "      <td>0.019010</td>\n",
       "    </tr>\n",
       "  </tbody>\n",
       "</table>\n",
       "</div>"
      ],
      "text/plain": [
       "                     close   high    low   open      volume      avg  \\\n",
       "time                                                                   \n",
       "2018-08-01 00:00:00  79.02  79.07  78.88  78.88  304.508209  78.9625   \n",
       "2018-08-01 00:01:00  79.01  79.02  79.00  79.02    9.220407  79.0125   \n",
       "2018-08-01 00:02:00  79.00  79.01  79.00  79.01   41.986554  79.0050   \n",
       "2018-08-01 00:03:00  78.86  79.00  78.85  79.00  315.791794  78.9275   \n",
       "2018-08-01 00:04:00  78.82  78.86  78.82  78.85  186.512855  78.8375   \n",
       "\n",
       "                     volume_minmax  \n",
       "time                                \n",
       "2018-08-01 00:00:00       0.031037  \n",
       "2018-08-01 00:01:00       0.000940  \n",
       "2018-08-01 00:02:00       0.004280  \n",
       "2018-08-01 00:03:00       0.032187  \n",
       "2018-08-01 00:04:00       0.019010  "
      ]
     },
     "execution_count": 24,
     "metadata": {},
     "output_type": "execute_result"
    }
   ],
   "source": []
  },
  {
   "cell_type": "code",
   "execution_count": 25,
   "metadata": {},
   "outputs": [
    {
     "data": {
      "text/html": [
       "<div>\n",
       "<style scoped>\n",
       "    .dataframe tbody tr th:only-of-type {\n",
       "        vertical-align: middle;\n",
       "    }\n",
       "\n",
       "    .dataframe tbody tr th {\n",
       "        vertical-align: top;\n",
       "    }\n",
       "\n",
       "    .dataframe thead th {\n",
       "        text-align: right;\n",
       "    }\n",
       "</style>\n",
       "<table border=\"1\" class=\"dataframe\">\n",
       "  <thead>\n",
       "    <tr style=\"text-align: right;\">\n",
       "      <th></th>\n",
       "      <th>close</th>\n",
       "      <th>high</th>\n",
       "      <th>low</th>\n",
       "      <th>open</th>\n",
       "      <th>volume</th>\n",
       "      <th>avg</th>\n",
       "      <th>volume_minmax</th>\n",
       "    </tr>\n",
       "    <tr>\n",
       "      <th>time</th>\n",
       "      <th></th>\n",
       "      <th></th>\n",
       "      <th></th>\n",
       "      <th></th>\n",
       "      <th></th>\n",
       "      <th></th>\n",
       "      <th></th>\n",
       "    </tr>\n",
       "  </thead>\n",
       "  <tbody>\n",
       "    <tr>\n",
       "      <th>2018-08-01 00:00:00</th>\n",
       "      <td>79.02</td>\n",
       "      <td>79.07</td>\n",
       "      <td>78.88</td>\n",
       "      <td>78.88</td>\n",
       "      <td>304.508209</td>\n",
       "      <td>78.9625</td>\n",
       "      <td>0.031037</td>\n",
       "    </tr>\n",
       "    <tr>\n",
       "      <th>2018-08-01 00:01:00</th>\n",
       "      <td>79.01</td>\n",
       "      <td>79.02</td>\n",
       "      <td>79.00</td>\n",
       "      <td>79.02</td>\n",
       "      <td>9.220407</td>\n",
       "      <td>79.0125</td>\n",
       "      <td>0.000940</td>\n",
       "    </tr>\n",
       "    <tr>\n",
       "      <th>2018-08-01 00:02:00</th>\n",
       "      <td>79.00</td>\n",
       "      <td>79.01</td>\n",
       "      <td>79.00</td>\n",
       "      <td>79.01</td>\n",
       "      <td>41.986554</td>\n",
       "      <td>79.0050</td>\n",
       "      <td>0.004280</td>\n",
       "    </tr>\n",
       "    <tr>\n",
       "      <th>2018-08-01 00:03:00</th>\n",
       "      <td>78.86</td>\n",
       "      <td>79.00</td>\n",
       "      <td>78.85</td>\n",
       "      <td>79.00</td>\n",
       "      <td>315.791794</td>\n",
       "      <td>78.9275</td>\n",
       "      <td>0.032187</td>\n",
       "    </tr>\n",
       "    <tr>\n",
       "      <th>2018-08-01 00:04:00</th>\n",
       "      <td>78.82</td>\n",
       "      <td>78.86</td>\n",
       "      <td>78.82</td>\n",
       "      <td>78.85</td>\n",
       "      <td>186.512855</td>\n",
       "      <td>78.8375</td>\n",
       "      <td>0.019010</td>\n",
       "    </tr>\n",
       "    <tr>\n",
       "      <th>2018-08-01 00:05:00</th>\n",
       "      <td>78.87</td>\n",
       "      <td>78.87</td>\n",
       "      <td>78.82</td>\n",
       "      <td>78.82</td>\n",
       "      <td>369.017066</td>\n",
       "      <td>78.8450</td>\n",
       "      <td>0.037612</td>\n",
       "    </tr>\n",
       "    <tr>\n",
       "      <th>2018-08-01 00:06:00</th>\n",
       "      <td>78.86</td>\n",
       "      <td>78.87</td>\n",
       "      <td>78.86</td>\n",
       "      <td>78.87</td>\n",
       "      <td>17.726241</td>\n",
       "      <td>78.8650</td>\n",
       "      <td>0.001807</td>\n",
       "    </tr>\n",
       "    <tr>\n",
       "      <th>2018-08-01 00:07:00</th>\n",
       "      <td>78.87</td>\n",
       "      <td>78.87</td>\n",
       "      <td>78.86</td>\n",
       "      <td>78.86</td>\n",
       "      <td>35.126820</td>\n",
       "      <td>78.8650</td>\n",
       "      <td>0.003580</td>\n",
       "    </tr>\n",
       "    <tr>\n",
       "      <th>2018-08-01 00:08:00</th>\n",
       "      <td>78.87</td>\n",
       "      <td>78.87</td>\n",
       "      <td>78.86</td>\n",
       "      <td>78.86</td>\n",
       "      <td>19.133186</td>\n",
       "      <td>78.8650</td>\n",
       "      <td>0.001950</td>\n",
       "    </tr>\n",
       "    <tr>\n",
       "      <th>2018-08-01 00:09:00</th>\n",
       "      <td>78.87</td>\n",
       "      <td>78.87</td>\n",
       "      <td>78.86</td>\n",
       "      <td>78.87</td>\n",
       "      <td>13.953002</td>\n",
       "      <td>78.8675</td>\n",
       "      <td>0.001422</td>\n",
       "    </tr>\n",
       "  </tbody>\n",
       "</table>\n",
       "</div>"
      ],
      "text/plain": [
       "                     close   high    low   open      volume      avg  \\\n",
       "time                                                                   \n",
       "2018-08-01 00:00:00  79.02  79.07  78.88  78.88  304.508209  78.9625   \n",
       "2018-08-01 00:01:00  79.01  79.02  79.00  79.02    9.220407  79.0125   \n",
       "2018-08-01 00:02:00  79.00  79.01  79.00  79.01   41.986554  79.0050   \n",
       "2018-08-01 00:03:00  78.86  79.00  78.85  79.00  315.791794  78.9275   \n",
       "2018-08-01 00:04:00  78.82  78.86  78.82  78.85  186.512855  78.8375   \n",
       "2018-08-01 00:05:00  78.87  78.87  78.82  78.82  369.017066  78.8450   \n",
       "2018-08-01 00:06:00  78.86  78.87  78.86  78.87   17.726241  78.8650   \n",
       "2018-08-01 00:07:00  78.87  78.87  78.86  78.86   35.126820  78.8650   \n",
       "2018-08-01 00:08:00  78.87  78.87  78.86  78.86   19.133186  78.8650   \n",
       "2018-08-01 00:09:00  78.87  78.87  78.86  78.87   13.953002  78.8675   \n",
       "\n",
       "                     volume_minmax  \n",
       "time                                \n",
       "2018-08-01 00:00:00       0.031037  \n",
       "2018-08-01 00:01:00       0.000940  \n",
       "2018-08-01 00:02:00       0.004280  \n",
       "2018-08-01 00:03:00       0.032187  \n",
       "2018-08-01 00:04:00       0.019010  \n",
       "2018-08-01 00:05:00       0.037612  \n",
       "2018-08-01 00:06:00       0.001807  \n",
       "2018-08-01 00:07:00       0.003580  \n",
       "2018-08-01 00:08:00       0.001950  \n",
       "2018-08-01 00:09:00       0.001422  "
      ]
     },
     "execution_count": 25,
     "metadata": {},
     "output_type": "execute_result"
    }
   ],
   "source": [
    "# print(list(f1.keys()))\n",
    "# print(list(f2.keys()))\n",
    "# f2['2018-08-01 00:00:00'][:]\n",
    "f1['LTC-USD'].head(10)"
   ]
  },
  {
   "cell_type": "code",
   "execution_count": 5,
   "metadata": {
    "scrolled": false
   },
   "outputs": [
    {
     "data": {
      "text/plain": [
       "<matplotlib.axes._subplots.AxesSubplot at 0x115a661d0>"
      ]
     },
     "execution_count": 5,
     "metadata": {},
     "output_type": "execute_result"
    },
    {
     "data": {
      "image/png": "[encoded data removed]",
      "text/plain": [
       "<Figure size 936x360 with 1 Axes>"
      ]
     },
     "metadata": {
      "needs_background": "light"
     },
     "output_type": "display_data"
    },
    {
     "data": {
      "image/png": "[encoded data removed]",
      "text/plain": [
       "<Figure size 936x360 with 1 Axes>"
      ]
     },
     "metadata": {
      "needs_background": "light"
     },
     "output_type": "display_data"
    }
   ],
   "source": [
    "curr_data = load_data('201808')\n",
    "# curr_data['BTC-USD'].loc['open', 'close', 'high', 'low']\n",
    "curr_data['BTC-USD'][['avg']].plot(figsize=(13, 5))\n",
    "curr_data['BTC-USD'][['volume']].plot(figsize=(13, 5))"
   ]
  },
  {
   "cell_type": "markdown",
   "metadata": {},
   "source": [
    "## Modeling"
   ]
  },
  {
   "cell_type": "code",
   "execution_count": 29,
   "metadata": {},
   "outputs": [],
   "source": [
    "from keras.models import Sequential\n",
    "from keras.layers.recurrent import LSTM\n",
    "from keras.layers.core import Dense, Activation, Dropout\n",
    "\n",
    "from sklearn.externals import joblib\n",
    "from sklearn.model_selection import train_test_split "
   ]
  },
  {
   "cell_type": "code",
   "execution_count": 71,
   "metadata": {},
   "outputs": [],
   "source": [
    "# build model \n",
    "\n",
    "def build_model(dims_per_layer):\n",
    "    loss_func = 'mse'\n",
    "    optimiser_func = 'Nadam'\n",
    "    \n",
    "    rnn_model = Sequential()\n",
    "    rnn_model.add(LSTM(input_dim=dims_per_layer[0], output_dim=dims_per_layer[1], return_sequences=True))\n",
    "    rnn_model.add(Dropout(0.1))\n",
    "    rnn_model.add(LSTM(output_dim=dims_per_layer[2], return_sequences=True))\n",
    "    rnn_model.add(Dropout(0.1))\n",
    "    rnn_model.add(Dense(output_dim=dims_per_layer[3]))\n",
    "    rnn_model.add(Activation('tanh'))\n",
    "    \n",
    "    rnn_model.compile(loss=loss_func, optimizer=optimiser_func)\n",
    "    return rnn_model\n",
    "\n",
    "def train_model(model_name, train_x, train_y, epoches=100, batch_size=1):\n",
    "    \n",
    "    model = build_model([len(train_x.columns), 128, 64, 1])\n",
    "    model.fit(train_x, train_y, epochs=epoches, batch_size=batch_size, verbose=2)\n",
    "    \n",
    "    joblib.dump(model, f'./{model_name}.joblib')\n",
    "    return model\n",
    "    \n",
    "\n",
    "def split_train_xy(df, window_x, window_y, stride=1):\n",
    "    train_x = []\n",
    "    train_y = []\n",
    "    i = 0\n",
    "    while(i+window_x+window_y < len(df)):\n",
    "        train_x = train_x.append((df[i:(i+window_x)][['open', 'close', 'high', 'low', 'volume_minmax']]).values)\n",
    "#         train_y.append(df[(i+window_x):(i+window_x+window_y)][['avg']])\n",
    "        train_y = train_y.append((df.iloc[(i+window_x+window_y)][['avg']]).values)\n",
    "        \n",
    "        i += stride\n",
    "                \n",
    "    return train_x, train_y"
   ]
  },
  {
   "cell_type": "code",
   "execution_count": 69,
   "metadata": {},
   "outputs": [],
   "source": [
    "# train_x = pd.DataFrame()\n",
    "# train_x = train_x.append(data['LTC-USD'][0:30][['open', 'close', 'high', 'low', 'volume_minmax']])"
   ]
  },
  {
   "cell_type": "code",
   "execution_count": 72,
   "metadata": {},
   "outputs": [
    {
     "ename": "KeyboardInterrupt",
     "evalue": "",
     "output_type": "error",
     "traceback": [
      "\u001b[0;31m---------------------------------------------------------------------------\u001b[0m",
      "\u001b[0;31mKeyboardInterrupt\u001b[0m                         Traceback (most recent call last)",
      "\u001b[0;32m<ipython-input-72-8aa4aa59611c>\u001b[0m in \u001b[0;36m<module>\u001b[0;34m()\u001b[0m\n\u001b[1;32m      4\u001b[0m \u001b[0;31m#      data_x,\u001b[0m\u001b[0;34m\u001b[0m\u001b[0;34m\u001b[0m\u001b[0m\n\u001b[1;32m      5\u001b[0m \u001b[0;31m# ltc_data = data['LTC-USD']\u001b[0m\u001b[0;34m\u001b[0m\u001b[0;34m\u001b[0m\u001b[0m\n\u001b[0;32m----> 6\u001b[0;31m \u001b[0mdata_x\u001b[0m\u001b[0;34m,\u001b[0m \u001b[0mdata_y\u001b[0m \u001b[0;34m=\u001b[0m \u001b[0msplit_train_xy\u001b[0m\u001b[0;34m(\u001b[0m\u001b[0mdata\u001b[0m\u001b[0;34m[\u001b[0m\u001b[0;34m'LTC-USD'\u001b[0m\u001b[0;34m]\u001b[0m\u001b[0;34m,\u001b[0m \u001b[0;36m120\u001b[0m\u001b[0;34m,\u001b[0m \u001b[0;36m30\u001b[0m\u001b[0;34m)\u001b[0m\u001b[0;34m\u001b[0m\u001b[0m\n\u001b[0m\u001b[1;32m      7\u001b[0m \u001b[0;31m# x_train, x_val, y_train, y_val = train_test_split(data_x, data_y, test_size=0.3)\u001b[0m\u001b[0;34m\u001b[0m\u001b[0;34m\u001b[0m\u001b[0m\n\u001b[1;32m      8\u001b[0m \u001b[0;34m\u001b[0m\u001b[0m\n",
      "\u001b[0;32m<ipython-input-71-cd5686d72b61>\u001b[0m in \u001b[0;36msplit_train_xy\u001b[0;34m(df, window_x, window_y, stride)\u001b[0m\n\u001b[1;32m     32\u001b[0m         \u001b[0mtrain_x\u001b[0m \u001b[0;34m=\u001b[0m \u001b[0mtrain_x\u001b[0m\u001b[0;34m.\u001b[0m\u001b[0mappend\u001b[0m\u001b[0;34m(\u001b[0m\u001b[0mdf\u001b[0m\u001b[0;34m[\u001b[0m\u001b[0mi\u001b[0m\u001b[0;34m:\u001b[0m\u001b[0;34m(\u001b[0m\u001b[0mi\u001b[0m\u001b[0;34m+\u001b[0m\u001b[0mwindow_x\u001b[0m\u001b[0;34m)\u001b[0m\u001b[0;34m]\u001b[0m\u001b[0;34m[\u001b[0m\u001b[0;34m[\u001b[0m\u001b[0;34m'open'\u001b[0m\u001b[0;34m,\u001b[0m \u001b[0;34m'close'\u001b[0m\u001b[0;34m,\u001b[0m \u001b[0;34m'high'\u001b[0m\u001b[0;34m,\u001b[0m \u001b[0;34m'low'\u001b[0m\u001b[0;34m,\u001b[0m \u001b[0;34m'volume_minmax'\u001b[0m\u001b[0;34m]\u001b[0m\u001b[0;34m]\u001b[0m\u001b[0;34m)\u001b[0m\u001b[0;34m\u001b[0m\u001b[0m\n\u001b[1;32m     33\u001b[0m \u001b[0;31m#         train_y.append(df[(i+window_x):(i+window_x+window_y)][['avg']])\u001b[0m\u001b[0;34m\u001b[0m\u001b[0;34m\u001b[0m\u001b[0m\n\u001b[0;32m---> 34\u001b[0;31m         \u001b[0mtrain_y\u001b[0m \u001b[0;34m=\u001b[0m \u001b[0mtrain_y\u001b[0m\u001b[0;34m.\u001b[0m\u001b[0mappend\u001b[0m\u001b[0;34m(\u001b[0m\u001b[0mdf\u001b[0m\u001b[0;34m.\u001b[0m\u001b[0miloc\u001b[0m\u001b[0;34m[\u001b[0m\u001b[0;34m(\u001b[0m\u001b[0mi\u001b[0m\u001b[0;34m+\u001b[0m\u001b[0mwindow_x\u001b[0m\u001b[0;34m+\u001b[0m\u001b[0mwindow_y\u001b[0m\u001b[0;34m)\u001b[0m\u001b[0;34m]\u001b[0m\u001b[0;34m[\u001b[0m\u001b[0;34m[\u001b[0m\u001b[0;34m'avg'\u001b[0m\u001b[0;34m]\u001b[0m\u001b[0;34m]\u001b[0m\u001b[0;34m)\u001b[0m\u001b[0;34m\u001b[0m\u001b[0m\n\u001b[0m\u001b[1;32m     35\u001b[0m \u001b[0;34m\u001b[0m\u001b[0m\n\u001b[1;32m     36\u001b[0m         \u001b[0mi\u001b[0m \u001b[0;34m+=\u001b[0m \u001b[0mstride\u001b[0m\u001b[0;34m\u001b[0m\u001b[0m\n",
      "\u001b[0;31mKeyboardInterrupt\u001b[0m: "
     ]
    }
   ],
   "source": [
    "data = load_data('201808')\n",
    "\n",
    "# for key, item in data.items():\n",
    "#      data_x, \n",
    "# ltc_data = data['LTC-USD']\n",
    "data_x, data_y = split_train_xy(data['LTC-USD'], 120, 30)\n",
    "# x_train, x_val, y_train, y_val = train_test_split(data_x, data_y, test_size=0.3)\n",
    "\n"
   ]
  },
  {
   "cell_type": "code",
   "execution_count": null,
   "metadata": {},
   "outputs": [],
   "source": [
    "# ltc_model = train_model('ltc_model', x_train, y_train)"
   ]
  }
 ],
 "metadata": {
  "kernelspec": {
   "display_name": "conda_science",
   "language": "python",
   "name": "conda_science"
  },
  "language_info": {
   "codemirror_mode": {
    "name": "ipython",
    "version": 3
   },
   "file_extension": ".py",
   "mimetype": "text/x-python",
   "name": "python",
   "nbconvert_exporter": "python",
   "pygments_lexer": "ipython3",
   "version": "3.7.0"
  }
 },
 "nbformat": 4,
 "nbformat_minor": 2
}
